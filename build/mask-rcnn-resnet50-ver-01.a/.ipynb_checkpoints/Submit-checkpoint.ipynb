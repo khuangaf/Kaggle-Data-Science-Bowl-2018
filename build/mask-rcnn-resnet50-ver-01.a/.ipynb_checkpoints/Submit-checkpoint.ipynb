{
 "cells": [
  {
   "cell_type": "code",
   "execution_count": 2,
   "metadata": {},
   "outputs": [
    {
     "name": "stdout",
     "output_type": "stream",
     "text": [
      "@common.py:  \n",
      "\tset random seed\n",
      "\t\tSEED=35202\n",
      "\tset cuda environment\n",
      "\t\ttorch.__version__              = 0.4.0a0+a3d08de\n",
      "\t\ttorch.version.cuda             = 9.1.85\n",
      "\t\ttorch.backends.cudnn.version() = None\n",
      "\t\tos['CUDA_VISIBLE_DEVICES']     = 0\n",
      "\t\ttorch.cuda.device_count()      = 1\n",
      "\t\ttorch.cuda.current_device()    = 0\n",
      "\n"
     ]
    }
   ],
   "source": [
    "import os, sys\n",
    "# sys.path.append(os.path.dirname(__file__))\n",
    "\n",
    "from train_0 import *\n",
    "os.environ['CUDA_VISIBLE_DEVICES'] = '0'\n"
   ]
  },
  {
   "cell_type": "code",
   "execution_count": 3,
   "metadata": {},
   "outputs": [],
   "source": [
    "ALL_TEST_IMAGE_ID =[\n",
    "    '0114f484a16c152baa2d82fdd43740880a762c93f436c8988ac461c5c9dbe7d5',\n",
    "    '0999dab07b11bc85fb8464fc36c947fbd8b5d6ec49817361cb780659ca805eac',\n",
    "    '0a849e0eb15faa8a6d7329c3dd66aabe9a294cccb52ed30a90c8ca99092ae732',\n",
    "    '0e132f71c8b4875c3c2dd7a22997468a3e842b46aa9bd47cf7b0e8b7d63f0925',\n",
    "    '0ed3555a4bd48046d3b63d8baf03a5aa97e523aa483aaa07459e7afa39fb96c6',\n",
    "    '0f1f896d9ae5a04752d3239c690402c022db4d72c0d2c087d73380896f72c466',\n",
    "    '1747f62148a919c8feb6d607faeebdf504b5e2ad42b6b1710b1189c37ebcdb2c',\n",
    "    '17b9bf4356db24967c4677b8376ac38f826de73a88b93a8d73a8b452e399cdff',\n",
    "    '1879f4f4f05e2bada0ffeb46c128b8df7a79b14c84f38c3e216a69653495153b',\n",
    "    '191b2b2205f2f5cc9da04702c5d422bc249faf8bca1107af792da63cccfba829',\n",
    "    '1962d0c5faf3e85cda80e0578e0cb7aca50826d781620e5c1c4cc586bc69f81a',\n",
    "    '1cdbfee1951356e7b0a215073828695fe1ead5f8b1add119b6645d2fdc8d844e',\n",
    "    '1d9eacb3161f1e2b45550389ecf7c535c7199c6b44b1c6a46303f7b965e508f1',\n",
    "    '1ef68e93964c2d9230100c1347c328f6385a7bc027879dc3d4c055e6fe80cb3c',\n",
    "    '259b35151d4a7a5ffdd7ab7f171b142db8cfe40beeee67277fac6adca4d042c4',\n",
    "    '295682d9eb5acb5c1976a460c085734bfaf38482b0a3f02591c2bfdcd4128549',\n",
    "    '31f1fbe85b8899258ea5bcf5f93f7ac8238660c386aeab40649c715bd2e38a0a',\n",
    "    '336d3e4105766f8ad328a7ee9571e743f376f8cbcf6a969ca7e353fe3235c523',\n",
    "    '38f5cfb55fc8b048e82a5c895b25fefae7a70c71ab9990c535d1030637bf6a1f',\n",
    "    '3c4c675825f7509877bc10497f498c9a2e3433bf922bd870914a2eb21a54fd26',\n",
    "    '432f367a4c5b5674de2e2977744d10289a064e5704b21af6607b4975be47c580',\n",
    "    '43a71aeb641faa18742cb826772a8566c6c947d7050f9ab15459de6cc2b3b6af',\n",
    "    '44afae184c89e6ba55985b4d341acc1ae1e8b6ef96312064e0e6e630e022b078',\n",
    "    '4727d94c6a57ed484270fdd8bbc6e3d5f2f15d5476794a4e37a40f2309a091e2',\n",
    "    '472b1c5ff988dadc209faea92499bc07f305208dbda29d16262b3d543ac91c71',\n",
    "    '4be73d68f433869188fe5e7f09c7f681ed51003da6aa5d19ce368726d8e271ee',\n",
    "    '4f949bd8d914bbfa06f40d6a0e2b5b75c38bf53dbcbafc48c97f105bee4f8fac',\n",
    "    '505bc0a3928d8aef5ce441c5a611fdd32e1e8eccdc15cc3a52b88030acb50f81',\n",
    "    '519dc0d672d1c295fc69b629af8721ccb1a1f136d1976685a68487e62547ffe0',\n",
    "    '51c70bb8a299943b27f8b354571272692d8f2705036a1a9562156c76da5f025b',\n",
    "    '52b267e20519174e3ce1e1994b5d677804b16bc670aa5f6ffb6344a0fdf63fde',\n",
    "    '53df5150ee56253fe5bc91a9230d377bb21f1300f443ba45a758bcb01a15c0e4',\n",
    "    '550450e4bff4036fd671decdc5d42fec23578198d6a2fd79179c4368b9d6da18',\n",
    "    '5cee644e5ffbef1ba021c7f389b33bafd3b1841f04d3edd7922d5084c2c4e0c7',\n",
    "    '648c8ffa496e1716017906d0bf135debfc93386ae86aa3d4adbda9a505985fd9',\n",
    "    '697a05c6fe4a07c601d46da80885645ad574ea19b47ee795ccff216c9f1f1808',\n",
    "    '699f2992cd71e2e28cf45f81347ff22e76b37541ce88087742884cd0e9aadc68',\n",
    "    '78a981bd27ba0c65a9169548665a17bda9f49050d0d3893a6567d1eb92cd003d',\n",
    "    '7bdb668e6127b7eafc837a883f0648002bd063c736f55a4f673e787250a3fb04',\n",
    "    '7f4cbe0b36b5d09466476a7d4e01f4f976c67872d549f4ff47b3e1e3a2b403af',\n",
    "    '8922a6ac8fd0258ec27738ca101867169b20d90a60fc84f93df77acd5bf7c80b',\n",
    "    '8b59819fbc92eefe45b1db95c0cc3a467ddcfc755684c7f2ba2f6ccb9ad740ab',\n",
    "    '912a679e4b9b1d1a75170254fd675b8c24b664d80ad7ea7e460241a23535a406',\n",
    "    '9ab2d381f90b485a68b82bc07f94397a0373e3215ad20935a958738e55f3cfc2',\n",
    "    '9f17aea854db13015d19b34cb2022cfdeda44133323fcd6bb3545f7b9404d8ab',\n",
    "    'a4816cc1fb76cb3c5e481186833fc0ae9cf426a1406a2607e974e65e9cddba4f',\n",
    "    'a984e7fb886aa02e29d112766d3ce26a4f78eac540ce7bbdbd42af2761928f6d',\n",
    "    'ab298b962a63e4be9582513aaa84a5e270adba5fd2b16a50e59540524f63c3b8',\n",
    "    'ade080c6618cbbb0a25680cf847f312b5e19b22bfe1cafec0436987ebe5b1e7e',\n",
    "    'b83d1d77935b6cfd44105b54600ffc4b6bd82de57dec65571bcb117fa8398ba3',\n",
    "    'bdc789019cee8ddfae20d5f769299993b4b330b2d38d1218646cf89e77fbbd4d',\n",
    "    'c8e79ff4ac55f4b772057de28e539727b7f4f2a3de73bf7a082a0ace86d609eb',\n",
    "    'ca20076870e8fb604e61802605a9ac45419c82dd3e23404c56c4869f9502a5ef',\n",
    "    'd616d323a9eeb9da1b66f8d5df671d63c092c9919cb2c0b223e29c63257c944d',\n",
    "    'd6eb7ce7723e2f6dc13b90b41a29ded27dbd815bad633fdf582447c686018896',\n",
    "    'd8d4bf68a76e4e4c5f21de7ac613451f7115a04db686151e78b8ec0b6a22022b',\n",
    "    'da6c593410340b19bb212b9f6d274f95b08c0fc8f2570cd66bc5ed42c560acab',\n",
    "    'dab46d798d29aff2e99c23f47ed3064f5cafb1644629b015c95a2dd2ee593bb4',\n",
    "    'df40099c6306ca1f47fcc8a62e2fa39486d4e223177afdc51b2ad189691802d8',\n",
    "    'e17b7aedd251a016c01ef9158e6e4aa940d9f1b35942d86028dc1222192a9258',\n",
    "    'eea70a7948d25a9a791dbcb39228af4ea4049fe5ebdee9c04884be8cca3da835',\n",
    "    'f0d0ab13ff53adc3c4d57e95a5f83d80b06f2cbc0bf002b52cf7b496612e0ce4',\n",
    "    'f5effed21f671bbf4551ecebb7fe95f3be1cf09c16a60afe64d2f0b95be9d1eb',\n",
    "    'fac507fa4d1649e8b24c195d990f1fc3ca3633d917839e1751a9d412a14ab5e3',\n",
    "    'fe9adb627a6f45747c5a8223b671774791ededf9364f6544be487c540107fa4f',\n",
    "]\n"
   ]
  },
  {
   "cell_type": "code",
   "execution_count": 4,
   "metadata": {},
   "outputs": [],
   "source": [
    "## overwrite functions ###\n",
    "def revert(net, images):\n",
    "    #undo test-time-augmentation (e.g. unpad or scale back to input image size, etc)\n",
    "\n",
    "    def torch_clip_proposals (proposals, index, width, height):\n",
    "        boxes = torch.stack((\n",
    "             proposals[index,0],\n",
    "             proposals[index,1].clamp(0, width  - 1),\n",
    "             proposals[index,2].clamp(0, height - 1),\n",
    "             proposals[index,3].clamp(0, width  - 1),\n",
    "             proposals[index,4].clamp(0, height - 1),\n",
    "             proposals[index,5],\n",
    "             proposals[index,6],\n",
    "        ), 1)\n",
    "        return proposals\n",
    "\n",
    "    # ----\n",
    "\n",
    "    batch_size = len(images)\n",
    "    for b in range(batch_size):\n",
    "        image  = images[b]\n",
    "        height,width  = image.shape[:2]\n",
    "\n",
    "\n",
    "        # net.rpn_logits_flat  <todo>\n",
    "        # net.rpn_deltas_flat  <todo>\n",
    "        # net.rpn_window       <todo>\n",
    "        # net.rpn_proposals    <todo>\n",
    "\n",
    "        # net.rcnn_logits\n",
    "        # net.rcnn_deltas\n",
    "        # net.rcnn_proposals <todo>\n",
    "\n",
    "        # mask --\n",
    "        # net.mask_logits\n",
    "        index = (net.detections[:,0]==b).nonzero().view(-1)\n",
    "        net.detections = torch_clip_proposals (net.detections, index, width, height)\n",
    "\n",
    "        net.masks[b] = net.masks[b][:height,:width]\n",
    "\n",
    "    return net, image"
   ]
  },
  {
   "cell_type": "code",
   "execution_count": 5,
   "metadata": {},
   "outputs": [],
   "source": [
    "def submit_augment(image, index):\n",
    "    pad_image = pad_to_factor(image, factor=16)\n",
    "    input = torch.from_numpy(pad_image.transpose((2,0,1))).float().div(255)\n",
    "    return input, image, index"
   ]
  },
  {
   "cell_type": "code",
   "execution_count": 6,
   "metadata": {},
   "outputs": [],
   "source": [
    "def submit_collate(batch):\n",
    "\n",
    "    batch_size = len(batch)\n",
    "    #for b in range(batch_size): print (batch[b][0].size())\n",
    "    inputs    = torch.stack([batch[b][0]for b in range(batch_size)], 0)\n",
    "    images    =             [batch[b][1]for b in range(batch_size)]\n",
    "    indices   =             [batch[b][2]for b in range(batch_size)]\n",
    "\n",
    "    return [inputs, images, indices]"
   ]
  },
  {
   "cell_type": "code",
   "execution_count": 89,
   "metadata": {},
   "outputs": [],
   "source": [
    "from sklearn.externals import joblib\n",
    "import skimage.morphology as morph\n",
    "from skimage.filters import threshold_otsu\n",
    "import scipy.ndimage as ndi\n",
    "from scipy.stats import itemfreq\n",
    "from itertools import product\n"
   ]
  },
  {
   "cell_type": "code",
   "execution_count": 228,
   "metadata": {},
   "outputs": [],
   "source": [
    "## overwrite functions ###\n",
    "def revert(net, images):\n",
    "    #undo test-time-augmentation (e.g. unpad or scale back to input image size, etc)\n",
    "\n",
    "    def torch_clip_proposals (proposals, index, width, height):\n",
    "        boxes = torch.stack((\n",
    "             proposals[index,0],\n",
    "             proposals[index,1].clamp(0, width  - 1),\n",
    "             proposals[index,2].clamp(0, height - 1),\n",
    "             proposals[index,3].clamp(0, width  - 1),\n",
    "             proposals[index,4].clamp(0, height - 1),\n",
    "             proposals[index,5],\n",
    "             proposals[index,6],\n",
    "        ), 1)\n",
    "        return proposals\n",
    "\n",
    "    # ----\n",
    "\n",
    "    batch_size = len(images)\n",
    "    for b in range(batch_size):\n",
    "        image  = images[b]\n",
    "        height,width  = image.shape[:2]\n",
    "\n",
    "\n",
    "        # net.rpn_logits_flat  <todo>\n",
    "        # net.rpn_deltas_flat  <todo>\n",
    "        # net.rpn_window       <todo>\n",
    "        # net.rpn_proposals    <todo>\n",
    "\n",
    "        # net.rcnn_logits\n",
    "        # net.rcnn_deltas\n",
    "        # net.rcnn_proposals <todo>\n",
    "\n",
    "        # mask --\n",
    "        # net.mask_logits\n",
    "        index = (net.detections[:,0]==b).nonzero().view(-1)\n",
    "        net.detections = torch_clip_proposals (net.detections, index, width, height)\n",
    "\n",
    "        net.masks[b] = net.masks[b][:height,:width]\n",
    "\n",
    "    return net, image\n",
    "\n",
    "\n",
    "\n",
    "#-----------------------------------------------------------------------------------\n",
    "def submit_augment(image, index):\n",
    "    pad_image = pad_to_factor(image, factor=16)\n",
    "    input = torch.from_numpy(pad_image.transpose((2,0,1))).float().div(255)\n",
    "    return input, image, index\n",
    "\n",
    "\n",
    "def submit_collate(batch):\n",
    "\n",
    "    batch_size = len(batch)\n",
    "    #for b in range(batch_size): print (batch[b][0].size())\n",
    "    inputs    = torch.stack([batch[b][0]for b in range(batch_size)], 0)\n",
    "    images    =             [batch[b][1]for b in range(batch_size)]\n",
    "    indices   =             [batch[b][2]for b in range(batch_size)]\n",
    "\n",
    "    return [inputs, images, indices]\n",
    "\n",
    "def clean_mask_v2(m,c):\n",
    "    # threshold\n",
    "    m_b = m > threshold_otsu(m)\n",
    "    c_b = c > threshold_otsu(c)\n",
    "\n",
    "    # combine contours and masks and fill the cells\n",
    "    m_ = np.where(m_b | c_b, 1, 0)\n",
    "    m_ = ndi.binary_fill_holes(m_)\n",
    "\n",
    "    # close what wasn't closed before \n",
    "    area, radius = mean_blob_size(m_b)\n",
    "    struct_size = int(1.25*radius)\n",
    "    struct_el = morph.disk(struct_size)\n",
    "    m_padded = pad_mask(m_, pad=struct_size)\n",
    "    m_padded = morph.binary_closing(m_padded, selem=struct_el)\n",
    "    m_ = crop_mask(m_padded, crop=struct_size)\n",
    "    \n",
    "    # open to cut the real cells from the artifacts\n",
    "    area, radius = mean_blob_size(m_b)\n",
    "    struct_size = int(0.75*radius)\n",
    "    struct_el = morph.disk(struct_size)\n",
    "    m_ = np.where(c_b & (~m_b), 0, m_)\n",
    "    m_padded = pad_mask(m_, pad=struct_size)\n",
    "    m_padded = morph.binary_opening(m_padded, selem=struct_el)\n",
    "    m_ = crop_mask(m_padded, crop=struct_size)\n",
    "\n",
    "    # join the connected cells with what we had at the beginning\n",
    "    m_ = np.where(m_b|m_,1,0)\n",
    "    m_ = ndi.binary_fill_holes(m_)\n",
    "    \n",
    "    # drop all the cells that weren't present at least in 25% of area in the initial mask \n",
    "    m_ = drop_artifacts(m_, m_b,min_coverage=0.25)\n",
    "    \n",
    "    return m_\n",
    "\n",
    "def good_markers_v3(m_b,c):\n",
    "    # threshold\n",
    "    c_b = c > threshold_otsu(c)\n",
    "    \n",
    "    mk_ = np.where(c_b,0,m_b)\n",
    "    \n",
    "    area, radius = mean_blob_size(m_b)\n",
    "    struct_size = int(0.25*radius)\n",
    "    struct_el = morph.disk(struct_size)\n",
    "    m_padded = pad_mask(mk_, pad=struct_size)\n",
    "    m_padded = morph.erosion(m_padded, selem=struct_el)\n",
    "    mk_ = crop_mask(m_padded, crop=struct_size)\n",
    "    mk_,_ = ndi.label(mk_) \n",
    "    return mk_\n",
    "\n",
    "def good_distance_v1(m_b):\n",
    "    distance = ndi.distance_transform_edt(m_b)\n",
    "    return distance\n",
    "\n",
    "def add_dropped_water_blobs(water, mask_cleaned):\n",
    "    water_mask = (water > 0).astype(np.uint8)\n",
    "    dropped = mask_cleaned - water_mask\n",
    "    dropped, _ = ndi.label(dropped)\n",
    "    dropped = np.where(dropped, dropped + water.max(), 0)\n",
    "    water = water + dropped\n",
    "    return water\n",
    "\n",
    "def drop_artifacts_per_label(labels, initial_mask):\n",
    "    labels_cleaned = np.zeros_like(labels)\n",
    "    for i in range(1, labels.max() + 1):\n",
    "        component = np.where(labels == i, 1, 0)\n",
    "        component_initial_mask = np.where(labels == i, initial_mask, 0)\n",
    "        component = drop_artifacts(component, component_initial_mask)\n",
    "        labels_cleaned = labels_cleaned + component * i\n",
    "    return labels_cleaned\n",
    "\n",
    "def drop_artifacts(mask_after, mask_pre, min_coverage=0.5):\n",
    "    connected, nr_connected = ndi.label(mask_after)\n",
    "    mask = np.zeros_like(mask_after)\n",
    "    for i in range(1, nr_connected + 1):\n",
    "        conn_blob = np.where(connected == i, 1, 0)\n",
    "        initial_space = np.where(connected == i, mask_pre, 0)\n",
    "        blob_size = np.sum(conn_blob)\n",
    "        initial_blob_size = np.sum(initial_space)\n",
    "        coverage = float(initial_blob_size) / float(blob_size)\n",
    "        if coverage > min_coverage:\n",
    "            mask = mask + conn_blob\n",
    "        else:\n",
    "            mask = mask + initial_space\n",
    "    return mask\n",
    "\n",
    "def pad_mask(mask, pad):\n",
    "    if pad <= 1:\n",
    "        pad = 2\n",
    "    h, w = mask.shape\n",
    "    h_pad = h + 2 * pad\n",
    "    w_pad = w + 2 * pad\n",
    "    mask_padded = np.zeros((h_pad, w_pad))\n",
    "    mask_padded[pad:pad + h, pad:pad + w] = mask\n",
    "    mask_padded[pad - 1, :] = 1\n",
    "    mask_padded[pad + h + 1, :] = 1\n",
    "    mask_padded[:, pad - 1] = 1\n",
    "    mask_padded[:, pad + w + 1] = 1\n",
    "\n",
    "    return mask_padded\n",
    "\n",
    "def crop_mask(mask, crop):\n",
    "    if crop <= 1:\n",
    "        crop = 2\n",
    "    h, w = mask.shape\n",
    "    mask_cropped = mask[crop:h - crop, crop:w - crop]\n",
    "    return mask_cropped\n",
    "def mean_blob_size(mask):\n",
    "    labels, labels_nr = ndi.label(mask)\n",
    "    if labels_nr < 2:\n",
    "        mean_area = 1\n",
    "        mean_radius = 1\n",
    "    else:\n",
    "        mean_area = int(itemfreq(labels)[1:, 1].mean())\n",
    "        mean_radius = int(np.round(np.sqrt(mean_area) / np.pi))\n",
    "    return mean_area, mean_radius\n",
    "\n",
    "def relabel(img):\n",
    "    h, w = img.shape\n",
    "\n",
    "    relabel_dict = {}\n",
    "\n",
    "    for i, k in enumerate(np.unique(img)):\n",
    "        if k == 0:\n",
    "            relabel_dict[k] = 0\n",
    "        else:\n",
    "            relabel_dict[k] = i\n",
    "    for i, j in product(range(h), range(w)):\n",
    "        img[i, j] = relabel_dict[img[i, j]]\n",
    "    return img\n",
    "\n",
    "def drop_small(img, min_size):\n",
    "    img = morph.remove_small_objects(img, min_size=min_size)\n",
    "    return relabel(img)\n",
    "\n",
    "def fill_holes_per_blob(image):\n",
    "    image_cleaned = np.zeros_like(image)\n",
    "    for i in range(1, image.max() + 1):\n",
    "        mask = np.where(image == i, 1, 0)\n",
    "        mask = ndi.morphology.binary_fill_holes(mask)\n",
    "        image_cleaned = image_cleaned + mask * i\n",
    "    return image_cleaned\n",
    "\n",
    "def watershed_v3(mask, contour):\n",
    "    cleaned_mask = clean_mask_v1(mask, contour)\n",
    "    good_markers = good_markers_v3(cleaned_mask,contour)\n",
    "    good_distance = good_distance_v1(cleaned_mask)\n",
    "    \n",
    "    labels = morph.watershed(-good_distance, good_markers, mask=cleaned_mask)\n",
    "    \n",
    "    labels = add_dropped_water_blobs(labels, cleaned_mask)\n",
    "    \n",
    "    m_thresh = threshold_otsu(mask)\n",
    "    initial_mask_binary = (mask > m_thresh).astype(np.uint8)\n",
    "#     labels = drop_artifacts_per_label(labels,initial_mask_binary)\n",
    "    \n",
    "#     labels = drop_small(labels, min_size=20)\n",
    "    labels = fill_holes_per_blob(labels)\n",
    "        \n",
    "    return labels\n",
    "def clean_mask_v1(m,c):\n",
    "    m_b = m > threshold_otsu(m)\n",
    "    c_b = c > threshold_otsu(c)\n",
    "\n",
    "    m_ = np.where(m_b | c_b, 1, 0)\n",
    "    m_ = ndi.binary_fill_holes(m_)\n",
    "    m_ = np.where(c_b & (~m_b), 0, m_)\n",
    "    \n",
    "    area, radius = mean_blob_size(m_b)\n",
    "    m_ = morph.binary_opening(m_, selem=morph.disk(0.25*radius))\n",
    "    return m_"
   ]
  },
  {
   "cell_type": "code",
   "execution_count": 7,
   "metadata": {},
   "outputs": [],
   "source": [
    "out_dir  = RESULTS_DIR + '/mask-rcnn-50-gray500-02'"
   ]
  },
  {
   "cell_type": "code",
   "execution_count": 8,
   "metadata": {},
   "outputs": [
    {
     "name": "stdout",
     "output_type": "stream",
     "text": [
      "\n",
      "--- [START 2018-04-06_18-39-26] ----------------------------------------------------------------\n",
      "\n",
      "** some experiment setting **\n",
      "\tSEED         = 35202\n",
      "\tPROJECT_PATH = /data/steeve/DSB/build/mask-rcnn-resnet50-ver-01.a\n",
      "\tout_dir      = /data/steeve/DSB/results/mask-rcnn-50-gray500-02\n",
      "\n",
      "\tinitial_checkpoint = /data/steeve/DSB/results/mask-rcnn-50-gray500-02/checkpoint/00016500_model.pth\n",
      "<class 'net.resnet50_mask_rcnn.model.MaskRcnnNet'>\n",
      "\n",
      "\n",
      "** dataset setting **\n",
      "\ttime = 0.00 min\n",
      "\tnum_ids = 53\n",
      "\n"
     ]
    }
   ],
   "source": [
    "initial_checkpoint = \\\n",
    "        out_dir + '/checkpoint/00016500_model.pth'\n",
    "    ##\n",
    "\n",
    "## setup  ---------------------------\n",
    "os.makedirs(out_dir +'/submit/overlays', exist_ok=True)\n",
    "os.makedirs(out_dir +'/submit/npys', exist_ok=True)\n",
    "os.makedirs(out_dir +'/checkpoint', exist_ok=True)\n",
    "os.makedirs(out_dir +'/backup', exist_ok=True)\n",
    "backup_project_as_zip(PROJECT_PATH, out_dir +'/backup/code.%s.zip'%IDENTIFIER)\n",
    "\n",
    "log = Logger()\n",
    "log.open(out_dir+'/log.evaluate.txt',mode='a')\n",
    "log.write('\\n--- [START %s] %s\\n\\n' % (IDENTIFIER, '-' * 64))\n",
    "log.write('** some experiment setting **\\n')\n",
    "log.write('\\tSEED         = %u\\n' % SEED)\n",
    "log.write('\\tPROJECT_PATH = %s\\n' % PROJECT_PATH)\n",
    "log.write('\\tout_dir      = %s\\n' % out_dir)\n",
    "log.write('\\n')\n",
    "\n",
    "\n",
    "## net ------------------------------\n",
    "cfg = Configuration()\n",
    "net = MaskRcnnNet(cfg).cuda()\n",
    "\n",
    "if initial_checkpoint is not None:\n",
    "    log.write('\\tinitial_checkpoint = %s\\n' % initial_checkpoint)\n",
    "    net.load_state_dict(torch.load(initial_checkpoint, map_location=lambda storage, loc: storage))\n",
    "\n",
    "\n",
    "log.write('%s\\n\\n'%(type(net)))\n",
    "log.write('\\n')\n",
    "\n",
    "\n",
    "\n",
    "## dataset ----------------------------------------\n",
    "log.write('** dataset setting **\\n')\n",
    "\n",
    "test_dataset = ScienceDataset(\n",
    "                            #'valid1_ids_gray_only1_43', mode='test',\n",
    "                            #'debug1_ids_gray_only_10', mode='test',\n",
    "#                                 'test1_ids_color_12', mode='test',\n",
    "                            'test1_ids_gray_only_53',mode='test',\n",
    "                            transform = submit_augment)\n",
    "test_loader  = DataLoader(\n",
    "                    test_dataset,\n",
    "                    sampler = SequentialSampler(test_dataset),\n",
    "                    batch_size  = 1,\n",
    "                    drop_last   = False,\n",
    "                    num_workers = 4,\n",
    "                    pin_memory  = True,\n",
    "                    collate_fn  = submit_collate)"
   ]
  },
  {
   "cell_type": "code",
   "execution_count": 13,
   "metadata": {
    "scrolled": true
   },
   "outputs": [
    {
     "name": "stdout",
     "output_type": "stream",
     "text": [
      "predicting:         52/52 (100 %)  0.71 min"
     ]
    }
   ],
   "source": [
    "test_num  = len(test_loader.dataset)\n",
    "start = timer()\n",
    "for i, (inputs, images, indices) in enumerate(test_loader, 0):\n",
    "\n",
    "    print('\\rpredicting: %10d/%d (%0.0f %%)  %0.2f min'%(i, test_num-1, 100*i/(test_num-1),\n",
    "                     (timer() - start) / 60), end='',flush=True)\n",
    "    time.sleep(0.01)\n",
    "\n",
    "\n",
    "    net.set_mode('test')\n",
    "    with torch.no_grad():\n",
    "        inputs = Variable(inputs).cuda()\n",
    "        net(inputs )\n",
    "        revert(net, images) #unpad, undo test-time augment etc ....\n",
    "\n",
    "\n",
    "\n",
    "    ##save results ---------------------------------------\n",
    "    batch_size = len(indices)\n",
    "    assert(batch_size==1)  #note current version support batch_size==1 for variable size input\n",
    "                           #to use batch_size>1, need to fix code for net.windows, etc\n",
    "\n",
    "    batch_size,C,H,W = inputs.size()\n",
    "    inputs = inputs.data.cpu().numpy()\n",
    "\n",
    "    window          = net.rpn_window\n",
    "    rpn_logits_flat = net.rpn_logits_flat.data.cpu().numpy()\n",
    "    rpn_deltas_flat = net.rpn_deltas_flat.data.cpu().numpy()\n",
    "    detections = net.detections\n",
    "    masks      = net.masks\n",
    "#     contour_overlay  = multi_mask_to_contour_overlay(mask, image, color=[0,255,0])"
   ]
  },
  {
   "cell_type": "code",
   "execution_count": 11,
   "metadata": {},
   "outputs": [],
   "source": [
    "%matplotlib inline"
   ]
  },
  {
   "cell_type": "code",
   "execution_count": 198,
   "metadata": {},
   "outputs": [],
   "source": [
    "mask = masks[0]\n",
    "image = images[0]\n",
    "contour_overlay  = multi_mask_to_contour_overlay(mask, image, color=[0,255,0])\n",
    "color_overlay    = multi_mask_to_color_overlay(mask, color='summer')\n",
    "color1_overlay   = multi_mask_to_contour_overlay(mask, color_overlay, color=[255,255,255])"
   ]
  },
  {
   "cell_type": "code",
   "execution_count": 199,
   "metadata": {},
   "outputs": [
    {
     "data": {
      "text/plain": [
       "85.0"
      ]
     },
     "execution_count": 199,
     "metadata": {},
     "output_type": "execute_result"
    }
   ],
   "source": [
    "mask.max()"
   ]
  },
  {
   "cell_type": "code",
   "execution_count": 200,
   "metadata": {
    "scrolled": true
   },
   "outputs": [
    {
     "data": {
      "text/plain": [
       "9.0"
      ]
     },
     "execution_count": 200,
     "metadata": {},
     "output_type": "execute_result"
    }
   ],
   "source": [
    "contour_overlay.mean(axis=2).min()"
   ]
  },
  {
   "cell_type": "code",
   "execution_count": 201,
   "metadata": {
    "scrolled": true
   },
   "outputs": [
    {
     "data": {
      "text/plain": [
       "(256, 256, 3)"
      ]
     },
     "execution_count": 201,
     "metadata": {},
     "output_type": "execute_result"
    }
   ],
   "source": [
    "color_overlay.shape"
   ]
  },
  {
   "cell_type": "code",
   "execution_count": 202,
   "metadata": {},
   "outputs": [
    {
     "data": {
      "text/plain": [
       "<matplotlib.image.AxesImage at 0x7f633aeec828>"
      ]
     },
     "execution_count": 202,
     "metadata": {},
     "output_type": "execute_result"
    },
    {
     "data": {
      "image/png": "[encoded data removed]",
      "text/plain": [
       "<matplotlib.figure.Figure at 0x7f6340a55630>"
      ]
     },
     "metadata": {},
     "output_type": "display_data"
    }
   ],
   "source": [
    "plt.imshow(masks[0])"
   ]
  },
  {
   "cell_type": "code",
   "execution_count": 203,
   "metadata": {},
   "outputs": [
    {
     "data": {
      "text/plain": [
       "(256, 256)"
      ]
     },
     "execution_count": 203,
     "metadata": {},
     "output_type": "execute_result"
    }
   ],
   "source": [
    "mask.shape"
   ]
  },
  {
   "cell_type": "code",
   "execution_count": 204,
   "metadata": {
    "scrolled": true
   },
   "outputs": [
    {
     "data": {
      "text/plain": [
       "<matplotlib.image.AxesImage at 0x7f633b3db048>"
      ]
     },
     "execution_count": 204,
     "metadata": {},
     "output_type": "execute_result"
    },
    {
     "data": {
      "image/png": "[encoded data removed]",
      "text/plain": [
       "<matplotlib.figure.Figure at 0x7f633a4e96d8>"
      ]
     },
     "metadata": {},
     "output_type": "display_data"
    }
   ],
   "source": [
    "import matplotlib.pyplot as plt\n",
    "# contour = contour_overlay.mean(axis=2)\n",
    "# mask = color_overlay.mean(axis=2)\n",
    "mask = masks[0]\n",
    "plt.imshow(contour )\n",
    "plt.imshow(mask)"
   ]
  },
  {
   "cell_type": "code",
   "execution_count": 205,
   "metadata": {},
   "outputs": [
    {
     "data": {
      "text/plain": [
       "<matplotlib.image.AxesImage at 0x7f633af27048>"
      ]
     },
     "execution_count": 205,
     "metadata": {},
     "output_type": "execute_result"
    },
    {
     "data": {
      "image/png": "[encoded data removed]",
      "text/plain": [
       "<matplotlib.figure.Figure at 0x7f633a4ea898>"
      ]
     },
     "metadata": {},
     "output_type": "display_data"
    }
   ],
   "source": [
    "plt.imshow(color_overlay.mean(axis=2))"
   ]
  },
  {
   "cell_type": "code",
   "execution_count": 206,
   "metadata": {},
   "outputs": [],
   "source": [
    "def plot_list(images, labels):\n",
    "    n_img = len(images)\n",
    "    n_lab = len(labels)\n",
    "    n = n_lab+n_img\n",
    "    plt.figure(figsize=(12,8))\n",
    "    for i, image in enumerate(images):\n",
    "        plt.subplot(1,n,i+1)\n",
    "        plt.imshow(image)\n",
    "    for j, label in enumerate(labels):\n",
    "        plt.subplot(1,n,n_img+j+1)\n",
    "        plt.imshow(label, cmap='nipy_spectral')\n",
    "    plt.show()"
   ]
  },
  {
   "cell_type": "code",
   "execution_count": 207,
   "metadata": {},
   "outputs": [],
   "source": [
    "import skimage.morphology as morph\n",
    "from skimage.filters import threshold_otsu\n",
    "import scipy.ndimage as ndi\n",
    "from scipy.stats import itemfreq"
   ]
  },
  {
   "cell_type": "code",
   "execution_count": 208,
   "metadata": {},
   "outputs": [
    {
     "data": {
      "text/plain": [
       "<matplotlib.image.AxesImage at 0x7f633a510438>"
      ]
     },
     "execution_count": 208,
     "metadata": {},
     "output_type": "execute_result"
    },
    {
     "data": {
      "image/png": "[encoded data removed]",
      "text/plain": [
       "<matplotlib.figure.Figure at 0x7f633a50bc88>"
      ]
     },
     "metadata": {},
     "output_type": "display_data"
    }
   ],
   "source": [
    "emptyImage = np.zeros_like(color_overlay).astype(np.uint8)\n",
    "plt.imshow(emptyImage)\n",
    "# empty"
   ]
  },
  {
   "cell_type": "code",
   "execution_count": 209,
   "metadata": {
    "scrolled": true
   },
   "outputs": [
    {
     "data": {
      "text/plain": [
       "<matplotlib.image.AxesImage at 0x7f633a5450f0>"
      ]
     },
     "execution_count": 209,
     "metadata": {},
     "output_type": "execute_result"
    },
    {
     "data": {
      "image/png": "[encoded data removed]",
      "text/plain": [
       "<matplotlib.figure.Figure at 0x7f633b0dfeb8>"
      ]
     },
     "metadata": {},
     "output_type": "display_data"
    }
   ],
   "source": [
    "import cv2\n",
    "imgray = cv2.cvtColor(color_overlay, cv2.COLOR_BGR2GRAY)\n",
    "thresh_val = threshold_otsu(imgray)\n",
    "ret,thresh = cv2.threshold(imgray, thresh_val, 255,0)\n",
    "im2, contours, hierarchy = cv2.findContours(thresh, cv2.RETR_TREE, cv2.CHAIN_APPROX_SIMPLE)\n",
    "contour = cv2.drawContours(emptyImage, contours, -1, (0, 255, 0), 2)\n",
    "plt.imshow(contour)"
   ]
  },
  {
   "cell_type": "code",
   "execution_count": 210,
   "metadata": {},
   "outputs": [
    {
     "data": {
      "text/plain": [
       "<matplotlib.image.AxesImage at 0x7f633a6d97f0>"
      ]
     },
     "execution_count": 210,
     "metadata": {},
     "output_type": "execute_result"
    },
    {
     "data": {
      "image/png": "[encoded data removed]",
      "text/plain": [
       "<matplotlib.figure.Figure at 0x7f633b3db6a0>"
      ]
     },
     "metadata": {},
     "output_type": "display_data"
    }
   ],
   "source": [
    "plt.imshow(mask)"
   ]
  },
  {
   "cell_type": "code",
   "execution_count": 211,
   "metadata": {},
   "outputs": [],
   "source": [
    "contour = contour.mean(axis=2)"
   ]
  },
  {
   "cell_type": "code",
   "execution_count": 212,
   "metadata": {},
   "outputs": [
    {
     "data": {
      "text/plain": [
       "(256, 256)"
      ]
     },
     "execution_count": 212,
     "metadata": {},
     "output_type": "execute_result"
    }
   ],
   "source": [
    "contour.shape"
   ]
  },
  {
   "cell_type": "code",
   "execution_count": 229,
   "metadata": {},
   "outputs": [],
   "source": [
    "cleaned_mask = clean_mask_v1(mask, contour)\n",
    "good_markers = good_markers_v3(cleaned_mask,contour)\n",
    "good_distance = good_distance_v1(cleaned_mask)\n",
    "water = watershed_v3(mask, contour)"
   ]
  },
  {
   "cell_type": "code",
   "execution_count": 230,
   "metadata": {},
   "outputs": [
    {
     "data": {
      "text/plain": [
       "<matplotlib.image.AxesImage at 0x7f633b2e75f8>"
      ]
     },
     "execution_count": 230,
     "metadata": {},
     "output_type": "execute_result"
    },
    {
     "data": {
      "image/png": "[encoded data removed]",
      "text/plain": [
       "<matplotlib.figure.Figure at 0x7f633a588588>"
      ]
     },
     "metadata": {},
     "output_type": "display_data"
    }
   ],
   "source": [
    "plt.imshow(good_distance)"
   ]
  },
  {
   "cell_type": "code",
   "execution_count": 231,
   "metadata": {},
   "outputs": [
    {
     "data": {
      "image/png": "[encoded data removed]",
      "text/plain": [
       "<matplotlib.figure.Figure at 0x7f633b3b7668>"
      ]
     },
     "metadata": {},
     "output_type": "display_data"
    }
   ],
   "source": [
    "plot_list(images=[ mask], labels=[masks[0], water, image])"
   ]
  },
  {
   "cell_type": "code",
   "execution_count": 109,
   "metadata": {},
   "outputs": [
    {
     "data": {
      "text/plain": [
       "85.0"
      ]
     },
     "execution_count": 109,
     "metadata": {},
     "output_type": "execute_result"
    }
   ],
   "source": [
    "plot_list(images=[ mask], labels=[masks[0], water, image])"
   ]
  },
  {
   "cell_type": "code",
   "execution_count": 107,
   "metadata": {
    "scrolled": true
   },
   "outputs": [
    {
     "data": {
      "text/plain": [
       "(256, 256)"
      ]
     },
     "execution_count": 107,
     "metadata": {},
     "output_type": "execute_result"
    }
   ],
   "source": [
    "water.shape"
   ]
  },
  {
   "cell_type": "code",
   "execution_count": null,
   "metadata": {},
   "outputs": [],
   "source": []
  },
  {
   "cell_type": "code",
   "execution_count": null,
   "metadata": {},
   "outputs": [],
   "source": []
  }
 ],
 "metadata": {
  "kernelspec": {
   "display_name": "Python 3",
   "language": "python",
   "name": "python3"
  },
  "language_info": {
   "codemirror_mode": {
    "name": "ipython",
    "version": 3
   },
   "file_extension": ".py",
   "mimetype": "text/x-python",
   "name": "python",
   "nbconvert_exporter": "python",
   "pygments_lexer": "ipython3",
   "version": "3.6.4"
  }
 },
 "nbformat": 4,
 "nbformat_minor": 2
}
