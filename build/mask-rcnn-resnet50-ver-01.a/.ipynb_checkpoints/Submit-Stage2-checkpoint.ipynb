{
 "cells": [
  {
   "cell_type": "code",
   "execution_count": 1,
   "metadata": {},
   "outputs": [],
   "source": [
    "import pandas as pd\n",
    "import numpy as np"
   ]
  },
  {
   "cell_type": "code",
   "execution_count": 2,
   "metadata": {},
   "outputs": [],
   "source": [
    "with open('/data/steeve/DSB/data/split/test2_ids_all_3019', 'r') as f:\n",
    "    ALL_TEST_IMAGE_ID = [line.strip().split('/')[1] for line in f.readlines()]"
   ]
  },
  {
   "cell_type": "code",
   "execution_count": 3,
   "metadata": {},
   "outputs": [],
   "source": [
    "with open('/data/steeve/DSB/data/split/test2_ids_gray_2800', 'r') as f:\n",
    "    ALL_GRAY_IMAGE_ID = [line.strip().split('/')[1] for line in f.readlines()]"
   ]
  },
  {
   "cell_type": "code",
   "execution_count": 4,
   "metadata": {},
   "outputs": [],
   "source": [
    "with open('/data/steeve/DSB/data/split/test2_ids_color_219', 'r') as f:\n",
    "    ALL_COLOR_IMAGE_ID = [line.strip().split('/')[1] for line in f.readlines()]"
   ]
  },
  {
   "cell_type": "code",
   "execution_count": 160,
   "metadata": {},
   "outputs": [
    {
     "data": {
      "text/html": [
       "<div>\n",
       "<style scoped>\n",
       "    .dataframe tbody tr th:only-of-type {\n",
       "        vertical-align: middle;\n",
       "    }\n",
       "\n",
       "    .dataframe tbody tr th {\n",
       "        vertical-align: top;\n",
       "    }\n",
       "\n",
       "    .dataframe thead th {\n",
       "        text-align: right;\n",
       "    }\n",
       "</style>\n",
       "<table border=\"1\" class=\"dataframe\">\n",
       "  <thead>\n",
       "    <tr style=\"text-align: right;\">\n",
       "      <th></th>\n",
       "      <th>ImageId</th>\n",
       "      <th>EncodedPixels</th>\n",
       "    </tr>\n",
       "  </thead>\n",
       "  <tbody>\n",
       "    <tr>\n",
       "      <th>0</th>\n",
       "      <td>0019c086029dd3be01f72131edb74e21ee995574e6d5c1...</td>\n",
       "      <td>22986 9 23239 15 23494 17 23749 20 24004 22 24...</td>\n",
       "    </tr>\n",
       "    <tr>\n",
       "      <th>1</th>\n",
       "      <td>0019c086029dd3be01f72131edb74e21ee995574e6d5c1...</td>\n",
       "      <td>11207 7 11461 12 11715 15 11969 19 12224 21 12...</td>\n",
       "    </tr>\n",
       "    <tr>\n",
       "      <th>2</th>\n",
       "      <td>0019c086029dd3be01f72131edb74e21ee995574e6d5c1...</td>\n",
       "      <td>13698 5 13951 10 14206 13 14461 15 14716 17 14...</td>\n",
       "    </tr>\n",
       "    <tr>\n",
       "      <th>3</th>\n",
       "      <td>0019c086029dd3be01f72131edb74e21ee995574e6d5c1...</td>\n",
       "      <td>35953 3 36205 11 36458 17 36713 20 36968 23 37...</td>\n",
       "    </tr>\n",
       "    <tr>\n",
       "      <th>4</th>\n",
       "      <td>0019c086029dd3be01f72131edb74e21ee995574e6d5c1...</td>\n",
       "      <td>30732 4 30986 8 31240 11 31496 12 31751 14 320...</td>\n",
       "    </tr>\n",
       "  </tbody>\n",
       "</table>\n",
       "</div>"
      ],
      "text/plain": [
       "                                             ImageId  \\\n",
       "0  0019c086029dd3be01f72131edb74e21ee995574e6d5c1...   \n",
       "1  0019c086029dd3be01f72131edb74e21ee995574e6d5c1...   \n",
       "2  0019c086029dd3be01f72131edb74e21ee995574e6d5c1...   \n",
       "3  0019c086029dd3be01f72131edb74e21ee995574e6d5c1...   \n",
       "4  0019c086029dd3be01f72131edb74e21ee995574e6d5c1...   \n",
       "\n",
       "                                       EncodedPixels  \n",
       "0  22986 9 23239 15 23494 17 23749 20 24004 22 24...  \n",
       "1  11207 7 11461 12 11715 15 11969 19 12224 21 12...  \n",
       "2  13698 5 13951 10 14206 13 14461 15 14716 17 14...  \n",
       "3  35953 3 36205 11 36458 17 36713 20 36968 23 37...  \n",
       "4  30732 4 30986 8 31240 11 31496 12 31751 14 320...  "
      ]
     },
     "execution_count": 160,
     "metadata": {},
     "output_type": "execute_result"
    }
   ],
   "source": [
    "color_df = pd.read_csv(\\\n",
    "                       '/data/steeve/DSB/results/mask-rcnn-resnext-50-color_external130-20.5k-stage2-ensemble/predict/out/submit/mask-rcnn-resnext-50-color_external130-20.5k-stage2-ensemble-iden-h-270.csv'\n",
    "#                        '/data/steeve/DSB/results/mask-rcnn-resnext-50-color_external130-stage2-36k-stage2-ensemble/predict/out/submit/mask-rcnn-resnext-50-color-extreme-ensemble-final.csv'\n",
    "                      )\n",
    "color_df.head()"
   ]
  },
  {
   "cell_type": "code",
   "execution_count": 161,
   "metadata": {
    "scrolled": true
   },
   "outputs": [
    {
     "data": {
      "text/html": [
       "<div>\n",
       "<style scoped>\n",
       "    .dataframe tbody tr th:only-of-type {\n",
       "        vertical-align: middle;\n",
       "    }\n",
       "\n",
       "    .dataframe tbody tr th {\n",
       "        vertical-align: top;\n",
       "    }\n",
       "\n",
       "    .dataframe thead th {\n",
       "        text-align: right;\n",
       "    }\n",
       "</style>\n",
       "<table border=\"1\" class=\"dataframe\">\n",
       "  <thead>\n",
       "    <tr style=\"text-align: right;\">\n",
       "      <th></th>\n",
       "      <th>ImageId</th>\n",
       "      <th>EncodedPixels</th>\n",
       "    </tr>\n",
       "  </thead>\n",
       "  <tbody>\n",
       "    <tr>\n",
       "      <th>0</th>\n",
       "      <td>004a078bb44ee55ee7d6f1c19f96b3a0d3b5037746a3a7...</td>\n",
       "      <td>27991 14 28242 23 28493 30 28745 35 28998 40 2...</td>\n",
       "    </tr>\n",
       "    <tr>\n",
       "      <th>1</th>\n",
       "      <td>004a078bb44ee55ee7d6f1c19f96b3a0d3b5037746a3a7...</td>\n",
       "      <td>43777 2 44033 3 44289 3 44545 4 44801 5 45057 ...</td>\n",
       "    </tr>\n",
       "    <tr>\n",
       "      <th>2</th>\n",
       "      <td>004a078bb44ee55ee7d6f1c19f96b3a0d3b5037746a3a7...</td>\n",
       "      <td>59706 18 59913 8 59958 23 60167 14 60208 31 60...</td>\n",
       "    </tr>\n",
       "    <tr>\n",
       "      <th>3</th>\n",
       "      <td>004a078bb44ee55ee7d6f1c19f96b3a0d3b5037746a3a7...</td>\n",
       "      <td>24316 2 24551 12 24567 10 24795 38 25048 41 25...</td>\n",
       "    </tr>\n",
       "    <tr>\n",
       "      <th>4</th>\n",
       "      <td>004a078bb44ee55ee7d6f1c19f96b3a0d3b5037746a3a7...</td>\n",
       "      <td>49142 4 49397 7 49653 9 49909 12 50166 11 5042...</td>\n",
       "    </tr>\n",
       "  </tbody>\n",
       "</table>\n",
       "</div>"
      ],
      "text/plain": [
       "                                             ImageId  \\\n",
       "0  004a078bb44ee55ee7d6f1c19f96b3a0d3b5037746a3a7...   \n",
       "1  004a078bb44ee55ee7d6f1c19f96b3a0d3b5037746a3a7...   \n",
       "2  004a078bb44ee55ee7d6f1c19f96b3a0d3b5037746a3a7...   \n",
       "3  004a078bb44ee55ee7d6f1c19f96b3a0d3b5037746a3a7...   \n",
       "4  004a078bb44ee55ee7d6f1c19f96b3a0d3b5037746a3a7...   \n",
       "\n",
       "                                       EncodedPixels  \n",
       "0  27991 14 28242 23 28493 30 28745 35 28998 40 2...  \n",
       "1  43777 2 44033 3 44289 3 44545 4 44801 5 45057 ...  \n",
       "2  59706 18 59913 8 59958 23 60167 14 60208 31 60...  \n",
       "3  24316 2 24551 12 24567 10 24795 38 25048 41 25...  \n",
       "4  49142 4 49397 7 49653 9 49909 12 50166 11 5042...  "
      ]
     },
     "execution_count": 161,
     "metadata": {},
     "output_type": "execute_result"
    }
   ],
   "source": [
    "gray_df = pd.read_csv(\\\n",
    "                      '/data/steeve/DSB/results/mask-rcnn-50-resnext-gray500-stage2/submit/mask-rcnn-50-resnext-gray500-40k-stage2.csv'\n",
    "#                       '/data/steeve/DSB/results/mask-rcnn-50-resnext-gray500-ensemble_mask-rcnn-50-resnext-gray553-stage2-ensemble/predict/out/submit/mask-rcnn-resnext-50-gray-extreme-ensemble-final.csv'\n",
    "                     )\n",
    "gray_df.head()"
   ]
  },
  {
   "cell_type": "code",
   "execution_count": 162,
   "metadata": {},
   "outputs": [
    {
     "data": {
      "text/plain": [
       "((104068, 2), 2800)"
      ]
     },
     "execution_count": 162,
     "metadata": {},
     "output_type": "execute_result"
    }
   ],
   "source": [
    "gray_df_extract = gray_df.loc[gray_df.ImageId.isin(ALL_GRAY_IMAGE_ID)]\n",
    "gray_df_extract.shape, len(gray_df_extract.ImageId.unique())"
   ]
  },
  {
   "cell_type": "code",
   "execution_count": 163,
   "metadata": {
    "scrolled": true
   },
   "outputs": [
    {
     "data": {
      "text/plain": [
       "((10909, 2), 219)"
      ]
     },
     "execution_count": 163,
     "metadata": {},
     "output_type": "execute_result"
    }
   ],
   "source": [
    "color_df_extract = color_df.loc[color_df.ImageId.isin(ALL_COLOR_IMAGE_ID)]\n",
    "color_df_extract.shape, len(color_df_extract.ImageId.unique())"
   ]
  },
  {
   "cell_type": "code",
   "execution_count": 164,
   "metadata": {},
   "outputs": [
    {
     "data": {
      "text/plain": [
       "(219,)"
      ]
     },
     "execution_count": 164,
     "metadata": {},
     "output_type": "execute_result"
    }
   ],
   "source": [
    "predicted_color_ids = color_df_extract.loc[~color_df_extract.EncodedPixels.isna()].ImageId.unique()\n",
    "predicted_color_ids.shape"
   ]
  },
  {
   "cell_type": "code",
   "execution_count": 165,
   "metadata": {},
   "outputs": [
    {
     "data": {
      "text/plain": [
       "(2363,)"
      ]
     },
     "execution_count": 165,
     "metadata": {},
     "output_type": "execute_result"
    }
   ],
   "source": [
    "predicted_gray_ids = gray_df_extract.loc[~gray_df_extract.EncodedPixels.isna()].ImageId.unique()\n",
    "predicted_gray_ids.shape"
   ]
  },
  {
   "cell_type": "code",
   "execution_count": 166,
   "metadata": {
    "scrolled": false
   },
   "outputs": [
    {
     "data": {
      "text/plain": [
       "3019"
      ]
     },
     "execution_count": 166,
     "metadata": {},
     "output_type": "execute_result"
    }
   ],
   "source": [
    "combine_df = pd.concat([gray_df_extract, color_df_extract])\n",
    "len(combine_df.ImageId.unique())"
   ]
  },
  {
   "cell_type": "code",
   "execution_count": 167,
   "metadata": {},
   "outputs": [],
   "source": [
    "is_predict_color = combine_df.ImageId.isin(predicted_color_ids) & (~combine_df.EncodedPixels.isna())\n",
    "is_predict_gray = combine_df.ImageId.isin(predicted_gray_ids)& (~combine_df.EncodedPixels.isna())\n",
    "is_predict_fail = ~combine_df.ImageId.isin(predicted_color_ids) & ~combine_df.ImageId.isin(predicted_gray_ids) & (combine_df.EncodedPixels.isna())\n",
    "combine_df_strip = combine_df.loc[  is_predict_color | is_predict_gray | is_predict_fail ]"
   ]
  },
  {
   "cell_type": "code",
   "execution_count": 168,
   "metadata": {},
   "outputs": [
    {
     "data": {
      "text/html": [
       "<div>\n",
       "<style scoped>\n",
       "    .dataframe tbody tr th:only-of-type {\n",
       "        vertical-align: middle;\n",
       "    }\n",
       "\n",
       "    .dataframe tbody tr th {\n",
       "        vertical-align: top;\n",
       "    }\n",
       "\n",
       "    .dataframe thead th {\n",
       "        text-align: right;\n",
       "    }\n",
       "</style>\n",
       "<table border=\"1\" class=\"dataframe\">\n",
       "  <thead>\n",
       "    <tr style=\"text-align: right;\">\n",
       "      <th></th>\n",
       "      <th>ImageId</th>\n",
       "      <th>EncodedPixels</th>\n",
       "    </tr>\n",
       "  </thead>\n",
       "  <tbody>\n",
       "    <tr>\n",
       "      <th>0</th>\n",
       "      <td>004a078bb44ee55ee7d6f1c19f96b3a0d3b5037746a3a7...</td>\n",
       "      <td>27991 14 28242 23 28493 30 28745 35 28998 40 2...</td>\n",
       "    </tr>\n",
       "    <tr>\n",
       "      <th>1</th>\n",
       "      <td>004a078bb44ee55ee7d6f1c19f96b3a0d3b5037746a3a7...</td>\n",
       "      <td>43777 2 44033 3 44289 3 44545 4 44801 5 45057 ...</td>\n",
       "    </tr>\n",
       "    <tr>\n",
       "      <th>2</th>\n",
       "      <td>004a078bb44ee55ee7d6f1c19f96b3a0d3b5037746a3a7...</td>\n",
       "      <td>59706 18 59913 8 59958 23 60167 14 60208 31 60...</td>\n",
       "    </tr>\n",
       "    <tr>\n",
       "      <th>3</th>\n",
       "      <td>004a078bb44ee55ee7d6f1c19f96b3a0d3b5037746a3a7...</td>\n",
       "      <td>24316 2 24551 12 24567 10 24795 38 25048 41 25...</td>\n",
       "    </tr>\n",
       "    <tr>\n",
       "      <th>4</th>\n",
       "      <td>004a078bb44ee55ee7d6f1c19f96b3a0d3b5037746a3a7...</td>\n",
       "      <td>49142 4 49397 7 49653 9 49909 12 50166 11 5042...</td>\n",
       "    </tr>\n",
       "  </tbody>\n",
       "</table>\n",
       "</div>"
      ],
      "text/plain": [
       "                                             ImageId  \\\n",
       "0  004a078bb44ee55ee7d6f1c19f96b3a0d3b5037746a3a7...   \n",
       "1  004a078bb44ee55ee7d6f1c19f96b3a0d3b5037746a3a7...   \n",
       "2  004a078bb44ee55ee7d6f1c19f96b3a0d3b5037746a3a7...   \n",
       "3  004a078bb44ee55ee7d6f1c19f96b3a0d3b5037746a3a7...   \n",
       "4  004a078bb44ee55ee7d6f1c19f96b3a0d3b5037746a3a7...   \n",
       "\n",
       "                                       EncodedPixels  \n",
       "0  27991 14 28242 23 28493 30 28745 35 28998 40 2...  \n",
       "1  43777 2 44033 3 44289 3 44545 4 44801 5 45057 ...  \n",
       "2  59706 18 59913 8 59958 23 60167 14 60208 31 60...  \n",
       "3  24316 2 24551 12 24567 10 24795 38 25048 41 25...  \n",
       "4  49142 4 49397 7 49653 9 49909 12 50166 11 5042...  "
      ]
     },
     "execution_count": 168,
     "metadata": {},
     "output_type": "execute_result"
    }
   ],
   "source": [
    "combine_df_strip.head()"
   ]
  },
  {
   "cell_type": "code",
   "execution_count": 169,
   "metadata": {
    "scrolled": true
   },
   "outputs": [
    {
     "data": {
      "text/plain": [
       "437"
      ]
     },
     "execution_count": 169,
     "metadata": {},
     "output_type": "execute_result"
    }
   ],
   "source": [
    "unpredicted = combine_df_strip.loc[combine_df_strip.EncodedPixels.isna()].ImageId\n",
    "len(unpredicted)"
   ]
  },
  {
   "cell_type": "code",
   "execution_count": 170,
   "metadata": {
    "scrolled": true
   },
   "outputs": [
    {
     "data": {
      "text/plain": [
       "(240,)"
      ]
     },
     "execution_count": 170,
     "metadata": {},
     "output_type": "execute_result"
    }
   ],
   "source": [
    "unpredicted_df = pd.read_csv('../../results/unet-weights/unet_f64.csv')\n",
    "unpredicted_df.ImageId.unique().shape"
   ]
  },
  {
   "cell_type": "code",
   "execution_count": 171,
   "metadata": {},
   "outputs": [
    {
     "data": {
      "text/html": [
       "<div>\n",
       "<style scoped>\n",
       "    .dataframe tbody tr th:only-of-type {\n",
       "        vertical-align: middle;\n",
       "    }\n",
       "\n",
       "    .dataframe tbody tr th {\n",
       "        vertical-align: top;\n",
       "    }\n",
       "\n",
       "    .dataframe thead th {\n",
       "        text-align: right;\n",
       "    }\n",
       "</style>\n",
       "<table border=\"1\" class=\"dataframe\">\n",
       "  <thead>\n",
       "    <tr style=\"text-align: right;\">\n",
       "      <th></th>\n",
       "      <th>ImageId</th>\n",
       "      <th>EncodedPixels</th>\n",
       "    </tr>\n",
       "  </thead>\n",
       "  <tbody>\n",
       "    <tr>\n",
       "      <th>0</th>\n",
       "      <td>04022ee855ec1e9b93532bf00e709e10305e3084ca9b45...</td>\n",
       "      <td>143578 2 144089 3 144601 4 145113 3 145626 2</td>\n",
       "    </tr>\n",
       "    <tr>\n",
       "      <th>1</th>\n",
       "      <td>04387d228734fd5993d61199704cbd741762b10e31856e...</td>\n",
       "      <td>64326 2 64899 4 65473 4 66048 3</td>\n",
       "    </tr>\n",
       "    <tr>\n",
       "      <th>2</th>\n",
       "      <td>04387d228734fd5993d61199704cbd741762b10e31856e...</td>\n",
       "      <td>170010 1 170583 3 171156 5 171729 7 172302 9 1...</td>\n",
       "    </tr>\n",
       "    <tr>\n",
       "      <th>3</th>\n",
       "      <td>04387d228734fd5993d61199704cbd741762b10e31856e...</td>\n",
       "      <td>51801 2 52374 4 52948 4 53523 2</td>\n",
       "    </tr>\n",
       "    <tr>\n",
       "      <th>4</th>\n",
       "      <td>04387d228734fd5993d61199704cbd741762b10e31856e...</td>\n",
       "      <td>314120 10 314693 12 315266 13 315841 12 316416 9</td>\n",
       "    </tr>\n",
       "  </tbody>\n",
       "</table>\n",
       "</div>"
      ],
      "text/plain": [
       "                                             ImageId  \\\n",
       "0  04022ee855ec1e9b93532bf00e709e10305e3084ca9b45...   \n",
       "1  04387d228734fd5993d61199704cbd741762b10e31856e...   \n",
       "2  04387d228734fd5993d61199704cbd741762b10e31856e...   \n",
       "3  04387d228734fd5993d61199704cbd741762b10e31856e...   \n",
       "4  04387d228734fd5993d61199704cbd741762b10e31856e...   \n",
       "\n",
       "                                       EncodedPixels  \n",
       "0       143578 2 144089 3 144601 4 145113 3 145626 2  \n",
       "1                    64326 2 64899 4 65473 4 66048 3  \n",
       "2  170010 1 170583 3 171156 5 171729 7 172302 9 1...  \n",
       "3                    51801 2 52374 4 52948 4 53523 2  \n",
       "4   314120 10 314693 12 315266 13 315841 12 316416 9  "
      ]
     },
     "execution_count": 171,
     "metadata": {},
     "output_type": "execute_result"
    }
   ],
   "source": [
    "unpredicted_df.head()"
   ]
  },
  {
   "cell_type": "code",
   "execution_count": 172,
   "metadata": {},
   "outputs": [],
   "source": [
    "# with open('unpredicted_id', 'w') as f:\n",
    "#     for id_ in unpredicted:\n",
    "#         f.write(f'{id_}\\n')"
   ]
  },
  {
   "cell_type": "code",
   "execution_count": 131,
   "metadata": {},
   "outputs": [],
   "source": [
    "combine_df_strip.to_csv('../../results/combine-stage2/mask-rcnn-resnext-50-color-extreme-ensemble-final-mask-rcnn-resnext-50-color_external130-20.5k-stage2-ensemble-iden-h-270_strip.csv', index=None)"
   ]
  },
  {
   "cell_type": "code",
   "execution_count": 173,
   "metadata": {
    "scrolled": true
   },
   "outputs": [],
   "source": [
    "combine_df_strip_unpredict = pd.concat([combine_df_strip, unpredicted_df])\n",
    "# len(combine_df_strip_unpredict.loc[combine_df_strip_unpredict.EncodedPixels.isna()].ImageId)\n",
    "# not_in_unpred = ~combine_df_strip_unpredict.ImageId.isin(unpredicted_df)\n",
    "# in_unpred_not_na = combine_df_strip_unpredict.ImageId.isin(unpredicted_df) &  ~combine_df_strip_unpredict.EncodedPixels.isna()\n",
    "# combine_df_strip_unpredict_strip = combine_df_strip_unpredict.loc[not_in_unpred | in_unpred_not_na]\n",
    "# combine_df_strip_unpredict_strip.size"
   ]
  },
  {
   "cell_type": "code",
   "execution_count": 174,
   "metadata": {},
   "outputs": [],
   "source": [
    "combine_df_strip_unpredict.to_csv('mask-rcnn-50-resnext-gray500-40k-stage2-mask-rcnn-resnext-50-color_external130-20.5k-stage2-ensemble-iden-h-270_strip_unet.csv', index=None)"
   ]
  },
  {
   "cell_type": "code",
   "execution_count": 29,
   "metadata": {
    "scrolled": true
   },
   "outputs": [],
   "source": [
    "combine_df.to_csv('../../results/combine-stage2/mask-rcnn-50-resnext-gray500-40k-stage2-mask-rcnn-resnext-50-color_external130-20.5k-stage2-ensemble-iden-h-270.csv', index=None)\n",
    "\n"
   ]
  },
  {
   "cell_type": "code",
   "execution_count": null,
   "metadata": {
    "scrolled": true
   },
   "outputs": [
    {
     "name": "stdout",
     "output_type": "stream",
     "text": [
      "Successfully submitted to 2018 Data Science Bowl "
     ]
    }
   ],
   "source": [
    "!kaggle competitions submit -c data-science-bowl-2018 -m extreme-ensemble-unet -f mask-rcnn-50-resnext-gray500-40k-stage2-mask-rcnn-resnext-50-color_external130-20.5k-stage2-ensemble-iden-h-270_strip_unet.csv"
   ]
  },
  {
   "cell_type": "code",
   "execution_count": null,
   "metadata": {},
   "outputs": [],
   "source": []
  }
 ],
 "metadata": {
  "kernelspec": {
   "display_name": "Python 3",
   "language": "python",
   "name": "python3"
  },
  "language_info": {
   "codemirror_mode": {
    "name": "ipython",
    "version": 3
   },
   "file_extension": ".py",
   "mimetype": "text/x-python",
   "name": "python",
   "nbconvert_exporter": "python",
   "pygments_lexer": "ipython3",
   "version": "3.6.4"
  }
 },
 "nbformat": 4,
 "nbformat_minor": 2
}
